{
 "cells": [
  {
   "cell_type": "code",
   "execution_count": 7,
   "id": "2abf0a2d",
   "metadata": {},
   "outputs": [
    {
     "name": "stdout",
     "output_type": "stream",
     "text": [
      "Found 239 files belonging to 3 classes.\n",
      "Using 216 files for training.\n",
      "Found 30 files belonging to 3 classes.\n",
      "Using 27 files for validation.\n",
      "Model: \"sequential_3\"\n",
      "_________________________________________________________________\n",
      " Layer (type)                Output Shape              Param #   \n",
      "=================================================================\n",
      " batch_normalization_6 (Batc  (None, 720, 1280)        5120      \n",
      " hNormalization)                                                 \n",
      "                                                                 \n",
      " bidirectional_3 (Bidirectio  (None, 720, 256)         1082880   \n",
      " nal)                                                            \n",
      "                                                                 \n",
      " batch_normalization_7 (Batc  (None, 720, 256)         1024      \n",
      " hNormalization)                                                 \n",
      "                                                                 \n",
      " gru_7 (GRU)                 (None, 64)                61824     \n",
      "                                                                 \n",
      " dense_6 (Dense)             (None, 16)                1040      \n",
      "                                                                 \n",
      " dense_7 (Dense)             (None, 3)                 51        \n",
      "                                                                 \n",
      "=================================================================\n",
      "Total params: 1,151,939\n",
      "Trainable params: 1,148,867\n",
      "Non-trainable params: 3,072\n",
      "_________________________________________________________________\n",
      "Epoch 1/4\n",
      "44/44 - 109s - loss: 0.4939 - accuracy: 0.8241 - 109s/epoch - 2s/step\n",
      "Epoch 2/4\n",
      "44/44 - 110s - loss: 0.2280 - accuracy: 0.9167 - 110s/epoch - 3s/step\n",
      "Epoch 3/4\n",
      "44/44 - 112s - loss: 0.1252 - accuracy: 0.9722 - 112s/epoch - 3s/step\n",
      "Epoch 4/4\n",
      "44/44 - 114s - loss: 0.0375 - accuracy: 0.9907 - 114s/epoch - 3s/step\n",
      "6/6 - 8s - loss: 0.3017 - accuracy: 0.9259 - 8s/epoch - 1s/step\n"
     ]
    },
    {
     "data": {
      "text/plain": [
       "[0.3017265200614929, 0.9259259104728699]"
      ]
     },
     "execution_count": 7,
     "metadata": {},
     "output_type": "execute_result"
    }
   ],
   "source": [
    "import pathlib\n",
    "import numpy as np\n",
    "import tensorflow as tf\n",
    "import matplotlib.pyplot as plt\n",
    "from tensorflow.keras.preprocessing.image import ImageDataGenerator\n",
    "\n",
    "data_dir = pathlib.Path(r'C:\\Users\\dixon\\Desktop\\Nanowire_Code\\location_Image')\n",
    "validation_dir=pathlib.Path(r'C:\\Users\\dixon\\Desktop\\Nanowire_Code\\location_image_validation')\n",
    "\n",
    "image_train= tf.keras.utils.image_dataset_from_directory(\n",
    "    data_dir,\n",
    "    labels='inferred',\n",
    "    label_mode='int',\n",
    "    #class_names=['left', 'no', 'right'],\n",
    "    color_mode='grayscale',\n",
    "    batch_size=5,\n",
    "    image_size=(720,1280),\n",
    "    seed=128,\n",
    "    validation_split=0.1,\n",
    "    subset='training',\n",
    "    )\n",
    "\n",
    "image_validation= tf.keras.utils.image_dataset_from_directory(\n",
    "    validation_dir,\n",
    "    labels='inferred',\n",
    "    label_mode='int',\n",
    "    #class_names=['left', 'no', 'right'],\n",
    "    color_mode='grayscale',\n",
    "    batch_size=5,\n",
    "    image_size=(720,1280),\n",
    "    seed=128,\n",
    "    validation_split=0.9,\n",
    "    subset='validation',\n",
    "    )\n",
    "\n",
    "\n",
    "'''\n",
    "datagen = ImageDataGenerator(rescale=1.0/255)\n",
    "image_train = datagen.flow_from_directory(\n",
    "    data_dir,\n",
    "    target_size=(720,1280),\n",
    "    batch_size=6,\n",
    "    color_mode=\"grayscale\",\n",
    "    class_mode=\"sparse\",\n",
    "    shuffle=True,\n",
    "    subset=\"training\",\n",
    "    seed=123,\n",
    ")\n",
    "\n",
    "vali_datagen = ImageDataGenerator(rescale=1.0/255)\n",
    "\n",
    "image_validation = vali_datagen.flow_from_directory(\n",
    "    validation_dir,\n",
    "    target_size=(720,1280),\n",
    "    batch_size=6,\n",
    "    color_mode=\"grayscale\",\n",
    "    class_mode=\"sparse\",\n",
    "    shuffle=False,\n",
    "    subset=\"validation\",\n",
    "    seed=123,\n",
    ")\n",
    "'''\n",
    "\n",
    "model = tf.keras.Sequential()\n",
    "model.add (tf.keras.Input (shape=(720,1280)))\n",
    "#model.add (tf.keras.layers.Reshape ((720,1280)))\n",
    "model.add (tf.keras.layers.BatchNormalization())      \n",
    "model.add (tf.keras.layers.Bidirectional (tf.keras.layers.GRU (128, return_sequences=True)))\n",
    "model.add (tf.keras.layers.BatchNormalization())\n",
    "model.add (tf.keras.layers.GRU (64))\n",
    "model.add (tf.keras.layers.Dense(16,activation='relu'))\n",
    "model.add (tf.keras.layers.Dense(3))\n",
    "\n",
    "loss=tf.keras.losses.CategoricalCrossentropy(from_logits=True)\n",
    "opt=tf.keras.optimizers.Adam(learning_rate=0.000375)\n",
    "\n",
    "model.compile (loss=loss, optimizer=opt, metrics=[\"accuracy\"])\n",
    "model.summary ()\n",
    "\n",
    "model.fit (image_train, batch_size=16, epochs=4, verbose=2)\n",
    "model.evaluate(image_validation, batch_size=16, verbose=2)"
   ]
  },
  {
   "cell_type": "code",
   "execution_count": 9,
   "id": "99cddee2",
   "metadata": {},
   "outputs": [
    {
     "name": "stdout",
     "output_type": "stream",
     "text": [
      "[1]\n",
      "[1]\n",
      "[1]\n",
      "[1]\n",
      "[1]\n",
      "[0]\n",
      "[0]\n",
      "[0]\n",
      "[0]\n",
      "[0]\n",
      "[2]\n",
      "[2]\n",
      "[2]\n",
      "[2]\n",
      "[2]\n"
     ]
    }
   ],
   "source": [
    "import cv2\n",
    "img_0_dir0=pathlib.Path(r'C:\\Users\\dixon\\Desktop\\Nanowire_Code\\location_Image\\no\\WIN_20211206_093225.JPG')\n",
    "img_0_dir1=pathlib.Path(r'C:\\Users\\dixon\\Desktop\\Nanowire_Code\\location_Image\\no\\WIN_20211206_093204.JPG')\n",
    "img_0_dir2=pathlib.Path(r'C:\\Users\\dixon\\Desktop\\Nanowire_Code\\location_Image\\no\\WIN_20211206_093235.JPG')\n",
    "img_0_dir3=pathlib.Path(r'C:\\Users\\dixon\\Desktop\\Nanowire_Code\\location_Image\\no\\WIN_20211206_093205.JPG')\n",
    "img_0_dir4=pathlib.Path(r'C:\\Users\\dixon\\Desktop\\Nanowire_Code\\location_Image\\no\\WIN_20211206_093234.JPG')\n",
    "\n",
    "img_1_dir0=pathlib.Path(r'C:\\Users\\dixon\\Desktop\\Nanowire_Code\\location_Image\\left\\WIN_20211206_092438.JPG')\n",
    "img_1_dir1=pathlib.Path(r'C:\\Users\\dixon\\Desktop\\Nanowire_Code\\location_Image\\left\\WIN_20211206_092525.JPG')\n",
    "img_1_dir2=pathlib.Path(r'C:\\Users\\dixon\\Desktop\\Nanowire_Code\\location_Image\\left\\WIN_20211206_092527.JPG')\n",
    "img_1_dir3=pathlib.Path(r'C:\\Users\\dixon\\Desktop\\Nanowire_Code\\location_Image\\left\\WIN_20211206_092516.JPG')\n",
    "img_1_dir4=pathlib.Path(r'C:\\Users\\dixon\\Desktop\\Nanowire_Code\\location_Image\\left\\WIN_20211206_092531.JPG')\n",
    "\n",
    "img_m1_dir0=pathlib.Path(r'C:\\Users\\dixon\\Desktop\\Nanowire_Code\\location_Image\\right\\WIN_20211206_093100.JPG')\n",
    "img_m1_dir1=pathlib.Path(r'C:\\Users\\dixon\\Desktop\\Nanowire_Code\\location_Image\\right\\WIN_20211206_093009.JPG')\n",
    "img_m1_dir2=pathlib.Path(r'C:\\Users\\dixon\\Desktop\\Nanowire_Code\\location_Image\\right\\WIN_20211206_093103.JPG')\n",
    "img_m1_dir3=pathlib.Path(r'C:\\Users\\dixon\\Desktop\\Nanowire_Code\\location_Image\\right\\WIN_20211206_093025.JPG')\n",
    "img_m1_dir4=pathlib.Path(r'C:\\Users\\dixon\\Desktop\\Nanowire_Code\\location_Image\\right\\WIN_20211206_093054.JPG')\n",
    "\n",
    "for i in (img_0_dir0,img_0_dir1,img_0_dir2,img_0_dir3,img_0_dir4,\n",
    "          img_1_dir0,img_1_dir1,img_1_dir2,img_1_dir3,img_1_dir4,\n",
    "          img_m1_dir0,img_m1_dir1,img_m1_dir2,img_m1_dir3,img_m1_dir4):\n",
    "    \n",
    "    image = tf.keras.preprocessing.image.load_img(i,grayscale=True)\n",
    "    input_arr = tf.keras.preprocessing.image.img_to_array(image)\n",
    "    input_arr = np.array([input_arr])\n",
    "    predictions = model.predict(input_arr)\n",
    "    answer=np.argmax(predictions,axis=1)\n",
    "    print (answer)"
   ]
  },
  {
   "cell_type": "code",
   "execution_count": 24,
   "id": "d2164c43",
   "metadata": {},
   "outputs": [
    {
     "name": "stdout",
     "output_type": "stream",
     "text": [
      "[0]\n"
     ]
    }
   ],
   "source": [
    "img_anyone = pathlib.Path(r'C:\\Users\\dixon\\Downloads\\WIN_20211207_141714.JPG')\n",
    "image = tf.keras.preprocessing.image.load_img(img_anyone,grayscale=True)\n",
    "input_arr = tf.keras.preprocessing.image.img_to_array(image)\n",
    "input_arr = np.array([input_arr])\n",
    "predictions = model.predict(input_arr)\n",
    "answer=np.argmax(predictions,axis=1)\n",
    "print (answer)"
   ]
  },
  {
   "cell_type": "code",
   "execution_count": null,
   "id": "d8071cd8",
   "metadata": {},
   "outputs": [],
   "source": [
    "print (training_set.class_indices)"
   ]
  },
  {
   "cell_type": "code",
   "execution_count": null,
   "id": "8bea5783",
   "metadata": {},
   "outputs": [],
   "source": []
  }
 ],
 "metadata": {
  "kernelspec": {
   "display_name": "Python 3 (ipykernel)",
   "language": "python",
   "name": "python3"
  },
  "language_info": {
   "codemirror_mode": {
    "name": "ipython",
    "version": 3
   },
   "file_extension": ".py",
   "mimetype": "text/x-python",
   "name": "python",
   "nbconvert_exporter": "python",
   "pygments_lexer": "ipython3",
   "version": "3.9.7"
  }
 },
 "nbformat": 4,
 "nbformat_minor": 5
}
