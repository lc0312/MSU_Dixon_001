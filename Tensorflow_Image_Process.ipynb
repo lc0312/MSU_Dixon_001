{
 "cells": [
  {
   "cell_type": "code",
   "execution_count": 31,
   "id": "2abf0a2d",
   "metadata": {},
   "outputs": [
    {
     "name": "stdout",
     "output_type": "stream",
     "text": [
      "Found 239 files belonging to 3 classes.\n",
      "Using 204 files for training.\n",
      "Found 239 files belonging to 3 classes.\n",
      "Using 35 files for validation.\n",
      "Model: \"sequential_7\"\n",
      "_________________________________________________________________\n",
      " Layer (type)                Output Shape              Param #   \n",
      "=================================================================\n",
      " batch_normalization_26 (Bat  (None, 720, 1280)        5120      \n",
      " chNormalization)                                                \n",
      "                                                                 \n",
      " bidirectional_7 (Bidirectio  (None, 720, 256)         1082880   \n",
      " nal)                                                            \n",
      "                                                                 \n",
      " batch_normalization_27 (Bat  (None, 720, 256)         1024      \n",
      " chNormalization)                                                \n",
      "                                                                 \n",
      " gru_15 (GRU)                (None, 64)                61824     \n",
      "                                                                 \n",
      " batch_normalization_28 (Bat  (None, 64)               256       \n",
      " chNormalization)                                                \n",
      "                                                                 \n",
      " dense_12 (Dense)            (None, 3)                 195       \n",
      "                                                                 \n",
      "=================================================================\n",
      "Total params: 1,151,299\n",
      "Trainable params: 1,148,099\n",
      "Non-trainable params: 3,200\n",
      "_________________________________________________________________\n",
      "Epoch 1/3\n",
      "41/41 - 94s - loss: 0.5193 - accuracy: 0.8725 - 94s/epoch - 2s/step\n",
      "Epoch 2/3\n",
      "41/41 - 95s - loss: 0.4092 - accuracy: 0.9069 - 95s/epoch - 2s/step\n",
      "Epoch 3/3\n",
      "41/41 - 95s - loss: 0.4103 - accuracy: 0.9314 - 95s/epoch - 2s/step\n",
      "7/7 - 8s - loss: 0.6505 - accuracy: 0.8857 - 8s/epoch - 1s/step\n"
     ]
    },
    {
     "data": {
      "text/plain": [
       "[0.6504770517349243, 0.8857142925262451]"
      ]
     },
     "execution_count": 31,
     "metadata": {},
     "output_type": "execute_result"
    }
   ],
   "source": [
    "import pathlib\n",
    "import numpy as np\n",
    "import tensorflow as tf\n",
    "import matplotlib.pyplot as plt\n",
    "\n",
    "data_dir = pathlib.Path(r'D:\\Chao Liu Nanowire\\Code_Nanowire\\location_Image')\n",
    "\n",
    "image_train= tf.keras.utils.image_dataset_from_directory(\n",
    "    data_dir,\n",
    "    labels='inferred',\n",
    "    label_mode='int',\n",
    "    color_mode='grayscale',\n",
    "    batch_size=5,\n",
    "    image_size=(720,1280),\n",
    "    seed=128,\n",
    "    validation_split=0.15,\n",
    "    subset='training',\n",
    "    )\n",
    "\n",
    "image_validation= tf.keras.utils.image_dataset_from_directory(\n",
    "    data_dir,\n",
    "    labels='inferred',\n",
    "    label_mode='int',\n",
    "    color_mode='grayscale',\n",
    "    batch_size=5,\n",
    "    image_size=(720,1280),\n",
    "    seed=128,\n",
    "    validation_split=0.15,\n",
    "    subset='validation',\n",
    "    )\n",
    "\n",
    "model = tf.keras.Sequential()\n",
    "model.add (tf.keras.Input (shape=(720,1280)))\n",
    "model.add (tf.keras.layers.BatchNormalization())      \n",
    "model.add (tf.keras.layers.Bidirectional (tf.keras.layers.GRU (128, return_sequences=True)))\n",
    "model.add (tf.keras.layers.BatchNormalization())\n",
    "model.add (tf.keras.layers.GRU (64))\n",
    "model.add (tf.keras.layers.BatchNormalization())\n",
    "model.add (tf.keras.layers.Dense(3,activation='tanh'))\n",
    "\n",
    "loss=tf.keras.losses.SparseCategoricalCrossentropy(from_logits=True)\n",
    "opt=tf.keras.optimizers.Adam(learning_rate=0.0012)\n",
    "\n",
    "model.compile (loss=loss, optimizer=opt, metrics=[\"accuracy\"])\n",
    "model.summary ()\n",
    "\n",
    "model.fit (image_train, batch_size=32, epochs=3, verbose=2)\n",
    "model.evaluate(image_validation, batch_size=32, verbose=2)"
   ]
  },
  {
   "cell_type": "code",
   "execution_count": 32,
   "id": "99cddee2",
   "metadata": {},
   "outputs": [
    {
     "name": "stdout",
     "output_type": "stream",
     "text": [
      "[0]\n",
      "[0]\n",
      "[1]\n",
      "[1]\n",
      "[0]\n",
      "[2]\n",
      "[2]\n",
      "[2]\n",
      "[2]\n",
      "[2]\n",
      "[0]\n",
      "[0]\n",
      "[0]\n",
      "[0]\n",
      "[0]\n"
     ]
    }
   ],
   "source": [
    "import cv2\n",
    "img_0_dir0=pathlib.Path(r'C:\\Users\\dixon\\Desktop\\Nanowire_Code\\location_Image\\0\\WIN_20211206_093225.JPG')\n",
    "img_0_dir1=pathlib.Path(r'C:\\Users\\dixon\\Desktop\\Nanowire_Code\\location_Image\\0\\WIN_20211206_093204.JPG')\n",
    "img_0_dir2=pathlib.Path(r'C:\\Users\\dixon\\Desktop\\Nanowire_Code\\location_Image\\0\\WIN_20211206_093235.JPG')\n",
    "img_0_dir3=pathlib.Path(r'C:\\Users\\dixon\\Desktop\\Nanowire_Code\\location_Image\\0\\WIN_20211206_093205.JPG')\n",
    "img_0_dir4=pathlib.Path(r'C:\\Users\\dixon\\Desktop\\Nanowire_Code\\location_Image\\0\\WIN_20211206_093234.JPG')\n",
    "\n",
    "img_1_dir0=pathlib.Path(r'C:\\Users\\dixon\\Desktop\\Nanowire_Code\\location_Image\\1\\WIN_20211206_092438.JPG')\n",
    "img_1_dir1=pathlib.Path(r'C:\\Users\\dixon\\Desktop\\Nanowire_Code\\location_Image\\1\\WIN_20211206_092525.JPG')\n",
    "img_1_dir2=pathlib.Path(r'C:\\Users\\dixon\\Desktop\\Nanowire_Code\\location_Image\\1\\WIN_20211206_092527.JPG')\n",
    "img_1_dir3=pathlib.Path(r'C:\\Users\\dixon\\Desktop\\Nanowire_Code\\location_Image\\1\\WIN_20211206_092516.JPG')\n",
    "img_1_dir4=pathlib.Path(r'C:\\Users\\dixon\\Desktop\\Nanowire_Code\\location_Image\\1\\WIN_20211206_092531.JPG')\n",
    "\n",
    "img_m1_dir0=pathlib.Path(r'C:\\Users\\dixon\\Desktop\\Nanowire_Code\\location_Image\\-1\\WIN_20211206_093100.JPG')\n",
    "img_m1_dir1=pathlib.Path(r'C:\\Users\\dixon\\Desktop\\Nanowire_Code\\location_Image\\-1\\WIN_20211206_093009.JPG')\n",
    "img_m1_dir2=pathlib.Path(r'C:\\Users\\dixon\\Desktop\\Nanowire_Code\\location_Image\\-1\\WIN_20211206_093103.JPG')\n",
    "img_m1_dir3=pathlib.Path(r'C:\\Users\\dixon\\Desktop\\Nanowire_Code\\location_Image\\-1\\WIN_20211206_093025.JPG')\n",
    "img_m1_dir4=pathlib.Path(r'C:\\Users\\dixon\\Desktop\\Nanowire_Code\\location_Image\\-1\\WIN_20211206_093054.JPG')\n",
    "\n",
    "for i in (img_0_dir0,img_0_dir1,img_0_dir2,img_0_dir3,img_0_dir4,\n",
    "          img_1_dir0,img_1_dir1,img_1_dir2,img_1_dir3,img_1_dir4,\n",
    "          img_m1_dir0,img_m1_dir1,img_m1_dir2,img_m1_dir3,img_m1_dir4):\n",
    "    \n",
    "    image = tf.keras.preprocessing.image.load_img(i,grayscale=True)\n",
    "    input_arr = tf.keras.preprocessing.image.img_to_array(image)\n",
    "    input_arr = np.array([input_arr])\n",
    "    predictions = model.predict(input_arr)\n",
    "    answer=np.argmax(predictions,axis=1)\n",
    "    print (answer)"
   ]
  },
  {
   "cell_type": "code",
   "execution_count": 33,
   "id": "d2164c43",
   "metadata": {},
   "outputs": [
    {
     "name": "stdout",
     "output_type": "stream",
     "text": [
      "[0]\n"
     ]
    }
   ],
   "source": [
    "img_anyone = pathlib.Path(r'C:\\Users\\dixon\\Downloads\\WIN_20211207_141723.JPG')\n",
    "image = tf.keras.preprocessing.image.load_img(img_anyone,grayscale=True)\n",
    "input_arr = tf.keras.preprocessing.image.img_to_array(image)\n",
    "input_arr = np.array([input_arr])\n",
    "predictions = model.predict(input_arr)\n",
    "answer=np.argmax(predictions,axis=1)\n",
    "print (answer)"
   ]
  },
  {
   "cell_type": "code",
   "execution_count": null,
   "id": "d8071cd8",
   "metadata": {},
   "outputs": [],
   "source": []
  },
  {
   "cell_type": "code",
   "execution_count": null,
   "id": "8bea5783",
   "metadata": {},
   "outputs": [],
   "source": []
  }
 ],
 "metadata": {
  "kernelspec": {
   "display_name": "Python 3 (ipykernel)",
   "language": "python",
   "name": "python3"
  },
  "language_info": {
   "codemirror_mode": {
    "name": "ipython",
    "version": 3
   },
   "file_extension": ".py",
   "mimetype": "text/x-python",
   "name": "python",
   "nbconvert_exporter": "python",
   "pygments_lexer": "ipython3",
   "version": "3.9.7"
  }
 },
 "nbformat": 4,
 "nbformat_minor": 5
}
