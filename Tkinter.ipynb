{
 "cells": [
  {
   "cell_type": "code",
   "execution_count": 4,
   "id": "7e68e919",
   "metadata": {},
   "outputs": [
    {
     "name": "stdout",
     "output_type": "stream",
     "text": [
      "rm is: Resource Manager of Visa Library at C:\\WINDOWS\\system32\\visa32.dll\n",
      "resource is: ('USB0::0xF4ED::0xEE3A::448G15106::INSTR', 'ASRL5::INSTR')\n"
     ]
    }
   ],
   "source": [
    "import tkinter as tk\n",
    "from tkinter import ttk as ttk\n",
    "import pyvisa\n",
    "rm = pyvisa.ResourceManager()\n",
    "import numpy as np\n",
    "\n",
    "print ('rm is:',rm)\n",
    "print('resource is:', rm.list_resources())\n",
    "BK_4065 = rm.open_resource ('USB0::62701::60986::448G15106::0::INSTR')\n",
    "\n",
    "#BK_4065.write ('C1:LOAD, 50') #Set CH1 load as 50 ohm\n",
    "#BK_4065.write ('C1:BSWV WVTP, SQUARE') \n",
    "#BK_4065.write ('C1:BSWV FRQ, 25000HZ') \n",
    "#BK_4065.write ('C1:BSWV AMP, 5V')\n",
    "#BK_4065.write ('C1: BSWV PHSE, ')\n",
    "#BK_4065.write ('C1:BSWV DUTY, 55')\n"
   ]
  },
  {
   "cell_type": "code",
   "execution_count": 15,
   "id": "e83c2996",
   "metadata": {},
   "outputs": [],
   "source": [
    "tk_window = tk.Tk ()\n",
    "tk_window.geometry (\"320x240\")\n",
    "tk_window.title (\"Bk Precision 4065\")\n",
    "\n",
    "def BK_ON ():\n",
    "    BK_4065.write ('C1:OUTP ON')\n",
    "\n",
    "button_ON = tk.Button(tk_window, text='ON', command=BK_ON, fg='black', bg='green', padx=15, pady=10)\n",
    "button_ON.pack()\n",
    "button_ON.place (x=10, y=80)\n",
    "\n",
    "def BK_OFF ():\n",
    "    BK_4065.write ('C1:OUTP OFF')\n",
    "    \n",
    "button_OFF = tk.Button(tk_window, text='OFF', command=BK_OFF, fg='black', bg='red', padx=13.5, pady=10)\n",
    "button_OFF.pack()\n",
    "button_OFF.place (x=10, y=140)\n",
    "\n",
    "\n",
    "\n",
    "def wave_forms_selection (event):\n",
    "    BK_4065.write ('C1:BSWV WVTP, '+str(event.widget.get())+'') \n",
    "\n",
    "n = tk.StringVar(value='wave form')\n",
    "wave_forms = ttk.Combobox(tk_window, text='Select Wave-form', width = 20, textvariable = n)\n",
    "wave_forms ['values'] = (' SINE', \n",
    "                          ' SQUARE',\n",
    "                          ' RAMP',\n",
    "                          ' PULSE',\n",
    "                          ' NOISE',\n",
    "                          ' DC',\n",
    "                          ' ARB')\n",
    "\n",
    "wave_forms.current()\n",
    "wave_forms.pack()\n",
    "wave_forms.place(x=100, y=15)\n",
    "wave_forms.bind (\"<<ComboboxSelected>>\", wave_forms_selection)\n",
    "\n",
    "\n",
    "\n",
    "Hz_entry = tk.Entry (tk_window, width='15', bg='white', borderwidth='2')\n",
    "Hz_entry.pack ()\n",
    "Hz_entry.place (x=110, y=45)\n",
    "Hz_entry.get ()\n",
    "Hz_entry.insert (0, \"1e-6~5e+7 (Hz)\")\n",
    "\n",
    "def frequence_input ():\n",
    "    BK_4065.write ('C1:BSWV FRQ, '+str(Hz_entry.get ())+'HZ') \n",
    "\n",
    "button_Hz = tk.Button(tk_window, text='Hz_set', command=frequence_input, fg='black')\n",
    "button_Hz.pack()\n",
    "button_Hz.place (x=220, y=42.5)\n",
    "\n",
    "Hz_value_scale = tk.StringVar()\n",
    "\n",
    "def Hz_scale (event=None):\n",
    "   Hz_adjust = (1+0.01*int(Hz_value_scale.get()))*int(Hz_entry.get ())\n",
    "   BK_4065.write ('C1:BSWV FRQ, '+str(Hz_adjust)+'HZ') \n",
    "\n",
    "Hz_Scale = tk.Scale(tk_window, variable=Hz_value_scale, from_=-20, to=+20, orient='horizontal')\n",
    "\n",
    "Hz_Scale.bind(\"<ButtonRelease-1>\",Hz_scale)\n",
    "Hz_Scale.pack()\n",
    "Hz_Scale.place (x=110, y=65)\n",
    "\n",
    "\n",
    "V_entry = tk.Entry (tk_window, width='15', bg='white', borderwidth='2')\n",
    "V_entry.pack ()\n",
    "V_entry.place (x=110, y=110)\n",
    "V_entry.get ()\n",
    "V_entry.insert (0, \"1e-3~1e+1 (V)\")\n",
    "\n",
    "def voltage_input ():\n",
    "    BK_4065.write ('C1:BSWV AMP, '+str(V_entry.get ())+'V') \n",
    "\n",
    "button_V = tk.Button(tk_window, text='v_set', command=voltage_input, fg='black')\n",
    "button_V.pack()\n",
    "button_V.place (x=220, y=112.5)\n",
    "  \n",
    "tk_window.mainloop ()"
   ]
  }
 ],
 "metadata": {
  "kernelspec": {
   "display_name": "Python 3 (ipykernel)",
   "language": "python",
   "name": "python3"
  },
  "language_info": {
   "codemirror_mode": {
    "name": "ipython",
    "version": 3
   },
   "file_extension": ".py",
   "mimetype": "text/x-python",
   "name": "python",
   "nbconvert_exporter": "python",
   "pygments_lexer": "ipython3",
   "version": "3.9.13"
  },
  "vscode": {
   "interpreter": {
    "hash": "a15feae295b001fc15270283fa36248672e027f078e6cdc93717cb56e23b139d"
   }
  }
 },
 "nbformat": 4,
 "nbformat_minor": 5
}
