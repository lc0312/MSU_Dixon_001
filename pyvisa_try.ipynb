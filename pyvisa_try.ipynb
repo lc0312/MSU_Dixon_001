{
 "cells": [
  {
   "cell_type": "code",
   "execution_count": 1,
   "metadata": {},
   "outputs": [
    {
     "name": "stdout",
     "output_type": "stream",
     "text": [
      "rm is: Resource Manager of Visa Library at C:\\WINDOWS\\system32\\visa32.dll\n",
      "resource is: ('USB0::0xF4ED::0xEE3A::448G15106::INSTR',)\n"
     ]
    }
   ],
   "source": [
    "\n",
    "import pyvisa\n",
    "rm = pyvisa.ResourceManager()\n",
    "\n",
    "print ('rm is:',rm)\n",
    "print('resource is:', rm.list_resources())\n",
    "BK_4065 = rm.open_resource ('USB0::62701::60986::448G15106::0::INSTR')"
   ]
  },
  {
   "cell_type": "code",
   "execution_count": 2,
   "metadata": {},
   "outputs": [
    {
     "data": {
      "text/plain": [
       "12"
      ]
     },
     "execution_count": 2,
     "metadata": {},
     "output_type": "execute_result"
    }
   ],
   "source": [
    "BK_4065.write ('C1:OUTP ON')"
   ]
  },
  {
   "cell_type": "code",
   "execution_count": 3,
   "metadata": {},
   "outputs": [
    {
     "data": {
      "text/plain": [
       "18"
      ]
     },
     "execution_count": 3,
     "metadata": {},
     "output_type": "execute_result"
    }
   ],
   "source": [
    "BK_4065.write ('C1:LOAD, 50') #Set CH1 load as 50 ohm\n",
    "BK_4065.write ('C1:BSWV WVTP, SQUARE') \n",
    "BK_4065.write ('C1:BSWV FRQ, 25000HZ') \n",
    "BK_4065.write ('C1:BSWV AMP, 5V')\n",
    "#BK_4065.write ('C1: BSWV PHSE, ')\n",
    "BK_4065.write ('C1:BSWV DUTY, 55')\n"
   ]
  },
  {
   "cell_type": "code",
   "execution_count": 4,
   "metadata": {},
   "outputs": [
    {
     "data": {
      "text/plain": [
       "13"
      ]
     },
     "execution_count": 4,
     "metadata": {},
     "output_type": "execute_result"
    }
   ],
   "source": [
    "BK_4065.write ('C1:OUTP OFF')"
   ]
  },
  {
   "cell_type": "code",
   "execution_count": 6,
   "metadata": {},
   "outputs": [],
   "source": [
    "import time\n",
    "for i in range(10):\n",
    "    BK_4065.write('C1:BSWV FRQ, '+str(i*100)+'HZ')\n",
    "    time.sleep(1)"
   ]
  }
 ],
 "metadata": {
  "kernelspec": {
   "display_name": "base",
   "language": "python",
   "name": "python3"
  },
  "language_info": {
   "codemirror_mode": {
    "name": "ipython",
    "version": 3
   },
   "file_extension": ".py",
   "mimetype": "text/x-python",
   "name": "python",
   "nbconvert_exporter": "python",
   "pygments_lexer": "ipython3",
   "version": "3.9.13"
  },
  "vscode": {
   "interpreter": {
    "hash": "a15feae295b001fc15270283fa36248672e027f078e6cdc93717cb56e23b139d"
   }
  }
 },
 "nbformat": 4,
 "nbformat_minor": 2
}
